{
 "cells": [
  {
   "cell_type": "code",
   "execution_count": 1,
   "id": "2c7c7964",
   "metadata": {},
   "outputs": [],
   "source": [
    "\n",
    "#importing libraries\n",
    "import numpy as np\n",
    "import pandas as pd\n",
    "import seaborn as sns\n",
    "import matplotlib.pyplot as plt\n",
    "import imblearn\n",
    "from sklearn.impute import KNNImputer\n",
    "import category_encoders as ce\n",
    "from sklearn.model_selection import cross_val_score,cross_validate\n",
    "from imblearn.over_sampling import SMOTE\n",
    "import catboost\n",
    "import lightgbm\n",
    "from lightgbm import LGBMClassifier \n",
    "from xgboost import XGBClassifier\n",
    "from sklearn.naive_bayes import GaussianNB,BernoulliNB\n",
    "from sklearn.svm import SVC\n",
    "from sklearn.ensemble import VotingClassifier\n",
    "from sklearn.linear_model import LogisticRegression\n",
    "from sklearn.tree import DecisionTreeClassifier\n",
    "from sklearn.ensemble import RandomForestClassifier\n",
    "from sklearn.preprocessing import StandardScaler\n",
    "from sklearn.model_selection import train_test_split\n",
    "from sklearn.model_selection import StratifiedKFold\n",
    "from sklearn.metrics import classification_report,f1_score,recall_score,precision_score,confusion_matrix,accuracy_score,roc_auc_score,roc_curve"
   ]
  },
  {
   "cell_type": "code",
   "execution_count": 2,
   "id": "19ea9bf0",
   "metadata": {},
   "outputs": [],
   "source": [
    "#loading dataset\n",
    "data=pd.read_csv(\"C:/Users/sande/OneDrive/Desktop/project_data.csv\")"
   ]
  },
  {
   "cell_type": "code",
   "execution_count": 3,
   "id": "4ef721ab",
   "metadata": {},
   "outputs": [
    {
     "data": {
      "text/html": [
       "<div>\n",
       "<style scoped>\n",
       "    .dataframe tbody tr th:only-of-type {\n",
       "        vertical-align: middle;\n",
       "    }\n",
       "\n",
       "    .dataframe tbody tr th {\n",
       "        vertical-align: top;\n",
       "    }\n",
       "\n",
       "    .dataframe thead th {\n",
       "        text-align: right;\n",
       "    }\n",
       "</style>\n",
       "<table border=\"1\" class=\"dataframe\">\n",
       "  <thead>\n",
       "    <tr style=\"text-align: right;\">\n",
       "      <th></th>\n",
       "      <th>assembly_no</th>\n",
       "      <th>year</th>\n",
       "      <th>candidate</th>\n",
       "      <th>gender</th>\n",
       "      <th>age</th>\n",
       "      <th>seat_category</th>\n",
       "      <th>caste</th>\n",
       "      <th>party</th>\n",
       "      <th>total_electors</th>\n",
       "      <th>result</th>\n",
       "      <th>contested</th>\n",
       "      <th>mus_pop</th>\n",
       "    </tr>\n",
       "  </thead>\n",
       "  <tbody>\n",
       "    <tr>\n",
       "      <th>0</th>\n",
       "      <td>1</td>\n",
       "      <td>2015</td>\n",
       "      <td>Dhirendra Pratap Singh alias Rinku singh</td>\n",
       "      <td>MALE</td>\n",
       "      <td>40.0</td>\n",
       "      <td>GEN</td>\n",
       "      <td>gen</td>\n",
       "      <td>JD(U)</td>\n",
       "      <td>331874</td>\n",
       "      <td>1</td>\n",
       "      <td>0</td>\n",
       "      <td>21.98</td>\n",
       "    </tr>\n",
       "    <tr>\n",
       "      <th>1</th>\n",
       "      <td>1</td>\n",
       "      <td>2015</td>\n",
       "      <td>Rajesh Singh</td>\n",
       "      <td>MALE</td>\n",
       "      <td>42.0</td>\n",
       "      <td>GEN</td>\n",
       "      <td>gen</td>\n",
       "      <td>INC</td>\n",
       "      <td>331874</td>\n",
       "      <td>0</td>\n",
       "      <td>1</td>\n",
       "      <td>21.98</td>\n",
       "    </tr>\n",
       "    <tr>\n",
       "      <th>2</th>\n",
       "      <td>1</td>\n",
       "      <td>2015</td>\n",
       "      <td>Sumant Kumar</td>\n",
       "      <td>MALE</td>\n",
       "      <td>26.0</td>\n",
       "      <td>ST</td>\n",
       "      <td>st</td>\n",
       "      <td>JAPL</td>\n",
       "      <td>331874</td>\n",
       "      <td>0</td>\n",
       "      <td>1</td>\n",
       "      <td>21.98</td>\n",
       "    </tr>\n",
       "    <tr>\n",
       "      <th>3</th>\n",
       "      <td>1</td>\n",
       "      <td>2015</td>\n",
       "      <td>Baidyanath Prasad</td>\n",
       "      <td>MALE</td>\n",
       "      <td>61.0</td>\n",
       "      <td>ST</td>\n",
       "      <td>st</td>\n",
       "      <td>BSP</td>\n",
       "      <td>331874</td>\n",
       "      <td>0</td>\n",
       "      <td>1</td>\n",
       "      <td>21.98</td>\n",
       "    </tr>\n",
       "    <tr>\n",
       "      <th>4</th>\n",
       "      <td>1</td>\n",
       "      <td>2015</td>\n",
       "      <td>Mahendra Kumar Bharti</td>\n",
       "      <td>MALE</td>\n",
       "      <td>64.0</td>\n",
       "      <td>GEN</td>\n",
       "      <td>obc</td>\n",
       "      <td>LJP</td>\n",
       "      <td>331874</td>\n",
       "      <td>0</td>\n",
       "      <td>0</td>\n",
       "      <td>21.98</td>\n",
       "    </tr>\n",
       "  </tbody>\n",
       "</table>\n",
       "</div>"
      ],
      "text/plain": [
       "   assembly_no  year                                 candidate gender   age  \\\n",
       "0            1  2015  Dhirendra Pratap Singh alias Rinku singh   MALE  40.0   \n",
       "1            1  2015                              Rajesh Singh   MALE  42.0   \n",
       "2            1  2015                              Sumant Kumar   MALE  26.0   \n",
       "3            1  2015                         Baidyanath Prasad   MALE  61.0   \n",
       "4            1  2015                     Mahendra Kumar Bharti   MALE  64.0   \n",
       "\n",
       "  seat_category caste  party   total_electors  result  contested  mus_pop  \n",
       "0           GEN   gen  JD(U)           331874       1          0    21.98  \n",
       "1           GEN   gen    INC           331874       0          1    21.98  \n",
       "2            ST    st   JAPL           331874       0          1    21.98  \n",
       "3            ST    st    BSP           331874       0          1    21.98  \n",
       "4           GEN   obc    LJP           331874       0          0    21.98  "
      ]
     },
     "execution_count": 3,
     "metadata": {},
     "output_type": "execute_result"
    }
   ],
   "source": [
    "data.head()"
   ]
  },
  {
   "cell_type": "code",
   "execution_count": 4,
   "id": "6da886e7",
   "metadata": {},
   "outputs": [],
   "source": [
    "data=data.sample(frac=1,random_state=10)"
   ]
  },
  {
   "cell_type": "code",
   "execution_count": 5,
   "id": "396ada5c",
   "metadata": {},
   "outputs": [
    {
     "data": {
      "text/html": [
       "<div>\n",
       "<style scoped>\n",
       "    .dataframe tbody tr th:only-of-type {\n",
       "        vertical-align: middle;\n",
       "    }\n",
       "\n",
       "    .dataframe tbody tr th {\n",
       "        vertical-align: top;\n",
       "    }\n",
       "\n",
       "    .dataframe thead th {\n",
       "        text-align: right;\n",
       "    }\n",
       "</style>\n",
       "<table border=\"1\" class=\"dataframe\">\n",
       "  <thead>\n",
       "    <tr style=\"text-align: right;\">\n",
       "      <th></th>\n",
       "      <th>assembly_no</th>\n",
       "      <th>year</th>\n",
       "      <th>candidate</th>\n",
       "      <th>gender</th>\n",
       "      <th>age</th>\n",
       "      <th>seat_category</th>\n",
       "      <th>caste</th>\n",
       "      <th>party</th>\n",
       "      <th>total_electors</th>\n",
       "      <th>result</th>\n",
       "      <th>contested</th>\n",
       "      <th>mus_pop</th>\n",
       "    </tr>\n",
       "  </thead>\n",
       "  <tbody>\n",
       "    <tr>\n",
       "      <th>4160</th>\n",
       "      <td>141</td>\n",
       "      <td>2015</td>\n",
       "      <td>BANWARI PASWAN</td>\n",
       "      <td>MALE</td>\n",
       "      <td>51.0</td>\n",
       "      <td>SC</td>\n",
       "      <td>sc</td>\n",
       "      <td>BMUP</td>\n",
       "      <td>249251</td>\n",
       "      <td>0</td>\n",
       "      <td>0</td>\n",
       "      <td>13.71</td>\n",
       "    </tr>\n",
       "    <tr>\n",
       "      <th>4839</th>\n",
       "      <td>165</td>\n",
       "      <td>2010</td>\n",
       "      <td>Uchit Kumar</td>\n",
       "      <td>MALE</td>\n",
       "      <td>37.3</td>\n",
       "      <td>GEN</td>\n",
       "      <td>obc</td>\n",
       "      <td>IND</td>\n",
       "      <td>268850</td>\n",
       "      <td>0</td>\n",
       "      <td>0</td>\n",
       "      <td>8.07</td>\n",
       "    </tr>\n",
       "    <tr>\n",
       "      <th>1875</th>\n",
       "      <td>68</td>\n",
       "      <td>2015</td>\n",
       "      <td>Bibhash Chandra Choudhary</td>\n",
       "      <td>MALE</td>\n",
       "      <td>31.0</td>\n",
       "      <td>GEN</td>\n",
       "      <td>obc</td>\n",
       "      <td>LJP</td>\n",
       "      <td>271982</td>\n",
       "      <td>0</td>\n",
       "      <td>0</td>\n",
       "      <td>44.47</td>\n",
       "    </tr>\n",
       "    <tr>\n",
       "      <th>4006</th>\n",
       "      <td>135</td>\n",
       "      <td>2015</td>\n",
       "      <td>AMAR KUMAR JHA</td>\n",
       "      <td>MALE</td>\n",
       "      <td>43.8</td>\n",
       "      <td>GEN</td>\n",
       "      <td>obc</td>\n",
       "      <td>JP</td>\n",
       "      <td>270457</td>\n",
       "      <td>0</td>\n",
       "      <td>0</td>\n",
       "      <td>10.62</td>\n",
       "    </tr>\n",
       "    <tr>\n",
       "      <th>4456</th>\n",
       "      <td>152</td>\n",
       "      <td>2010</td>\n",
       "      <td>Renu Choudhary</td>\n",
       "      <td>MALE</td>\n",
       "      <td>42.6</td>\n",
       "      <td>GEN</td>\n",
       "      <td>obc</td>\n",
       "      <td>CPI</td>\n",
       "      <td>208378</td>\n",
       "      <td>0</td>\n",
       "      <td>0</td>\n",
       "      <td>17.68</td>\n",
       "    </tr>\n",
       "    <tr>\n",
       "      <th>...</th>\n",
       "      <td>...</td>\n",
       "      <td>...</td>\n",
       "      <td>...</td>\n",
       "      <td>...</td>\n",
       "      <td>...</td>\n",
       "      <td>...</td>\n",
       "      <td>...</td>\n",
       "      <td>...</td>\n",
       "      <td>...</td>\n",
       "      <td>...</td>\n",
       "      <td>...</td>\n",
       "      <td>...</td>\n",
       "    </tr>\n",
       "    <tr>\n",
       "      <th>1180</th>\n",
       "      <td>42</td>\n",
       "      <td>2010</td>\n",
       "      <td>Rajendera Nirala</td>\n",
       "      <td>MALE</td>\n",
       "      <td>49.0</td>\n",
       "      <td>GEN</td>\n",
       "      <td>obc</td>\n",
       "      <td>RJP</td>\n",
       "      <td>211456</td>\n",
       "      <td>0</td>\n",
       "      <td>0</td>\n",
       "      <td>18.36</td>\n",
       "    </tr>\n",
       "    <tr>\n",
       "      <th>3441</th>\n",
       "      <td>117</td>\n",
       "      <td>2010</td>\n",
       "      <td>Khurshid Alam</td>\n",
       "      <td>MALE</td>\n",
       "      <td>59.0</td>\n",
       "      <td>GEN</td>\n",
       "      <td>obc</td>\n",
       "      <td>JP(S)</td>\n",
       "      <td>187178</td>\n",
       "      <td>0</td>\n",
       "      <td>0</td>\n",
       "      <td>10.28</td>\n",
       "    </tr>\n",
       "    <tr>\n",
       "      <th>1344</th>\n",
       "      <td>48</td>\n",
       "      <td>2010</td>\n",
       "      <td>Pradeep Yadav</td>\n",
       "      <td>MALE</td>\n",
       "      <td>39.0</td>\n",
       "      <td>GEN</td>\n",
       "      <td>obc</td>\n",
       "      <td>SP</td>\n",
       "      <td>241677</td>\n",
       "      <td>0</td>\n",
       "      <td>1</td>\n",
       "      <td>42.95</td>\n",
       "    </tr>\n",
       "    <tr>\n",
       "      <th>4623</th>\n",
       "      <td>158</td>\n",
       "      <td>2015</td>\n",
       "      <td>BRAHAMDEV PASWAN</td>\n",
       "      <td>MALE</td>\n",
       "      <td>38.2</td>\n",
       "      <td>SC</td>\n",
       "      <td>sc</td>\n",
       "      <td>IND</td>\n",
       "      <td>326124</td>\n",
       "      <td>0</td>\n",
       "      <td>0</td>\n",
       "      <td>17.68</td>\n",
       "    </tr>\n",
       "    <tr>\n",
       "      <th>1289</th>\n",
       "      <td>46</td>\n",
       "      <td>2010</td>\n",
       "      <td>Anant Kumar Roy</td>\n",
       "      <td>MALE</td>\n",
       "      <td>38.0</td>\n",
       "      <td>GEN</td>\n",
       "      <td>obc</td>\n",
       "      <td>IND</td>\n",
       "      <td>237915</td>\n",
       "      <td>0</td>\n",
       "      <td>0</td>\n",
       "      <td>42.95</td>\n",
       "    </tr>\n",
       "  </tbody>\n",
       "</table>\n",
       "<p>7256 rows × 12 columns</p>\n",
       "</div>"
      ],
      "text/plain": [
       "      assembly_no  year                  candidate gender   age seat_category  \\\n",
       "4160          141  2015             BANWARI PASWAN   MALE  51.0            SC   \n",
       "4839          165  2010                Uchit Kumar   MALE  37.3           GEN   \n",
       "1875           68  2015  Bibhash Chandra Choudhary   MALE  31.0           GEN   \n",
       "4006          135  2015             AMAR KUMAR JHA   MALE  43.8           GEN   \n",
       "4456          152  2010             Renu Choudhary   MALE  42.6           GEN   \n",
       "...           ...   ...                        ...    ...   ...           ...   \n",
       "1180           42  2010           Rajendera Nirala   MALE  49.0           GEN   \n",
       "3441          117  2010              Khurshid Alam   MALE  59.0           GEN   \n",
       "1344           48  2010              Pradeep Yadav   MALE  39.0           GEN   \n",
       "4623          158  2015           BRAHAMDEV PASWAN   MALE  38.2            SC   \n",
       "1289           46  2010            Anant Kumar Roy   MALE  38.0           GEN   \n",
       "\n",
       "     caste  party   total_electors  result  contested  mus_pop  \n",
       "4160    sc   BMUP           249251       0          0    13.71  \n",
       "4839   obc    IND           268850       0          0     8.07  \n",
       "1875   obc    LJP           271982       0          0    44.47  \n",
       "4006   obc     JP           270457       0          0    10.62  \n",
       "4456   obc    CPI           208378       0          0    17.68  \n",
       "...    ...    ...              ...     ...        ...      ...  \n",
       "1180   obc    RJP           211456       0          0    18.36  \n",
       "3441   obc  JP(S)           187178       0          0    10.28  \n",
       "1344   obc     SP           241677       0          1    42.95  \n",
       "4623    sc    IND           326124       0          0    17.68  \n",
       "1289   obc    IND           237915       0          0    42.95  \n",
       "\n",
       "[7256 rows x 12 columns]"
      ]
     },
     "execution_count": 5,
     "metadata": {},
     "output_type": "execute_result"
    }
   ],
   "source": [
    "data"
   ]
  },
  {
   "cell_type": "code",
   "execution_count": 6,
   "id": "049ac29b",
   "metadata": {},
   "outputs": [
    {
     "data": {
      "text/plain": [
       "(7256, 12)"
      ]
     },
     "execution_count": 6,
     "metadata": {},
     "output_type": "execute_result"
    }
   ],
   "source": [
    "data.shape"
   ]
  },
  {
   "cell_type": "code",
   "execution_count": null,
   "id": "15b33898",
   "metadata": {},
   "outputs": [],
   "source": []
  },
  {
   "cell_type": "markdown",
   "id": "cd21e610",
   "metadata": {},
   "source": [
    "# EDA"
   ]
  },
  {
   "cell_type": "code",
   "execution_count": 7,
   "id": "a85f61cc",
   "metadata": {},
   "outputs": [
    {
     "name": "stdout",
     "output_type": "stream",
     "text": [
      "<class 'pandas.core.frame.DataFrame'>\n",
      "Int64Index: 7256 entries, 4160 to 1289\n",
      "Data columns (total 12 columns):\n",
      " #   Column           Non-Null Count  Dtype  \n",
      "---  ------           --------------  -----  \n",
      " 0   assembly_no      7256 non-null   int64  \n",
      " 1   year             7256 non-null   int64  \n",
      " 2   candidate        7256 non-null   object \n",
      " 3   gender           7256 non-null   object \n",
      " 4   age              7256 non-null   float64\n",
      " 5   seat_category    7256 non-null   object \n",
      " 6   caste            7256 non-null   object \n",
      " 7   party            7256 non-null   object \n",
      " 8    total_electors  7256 non-null   int64  \n",
      " 9   result           7256 non-null   int64  \n",
      " 10  contested        7256 non-null   int64  \n",
      " 11  mus_pop          7256 non-null   float64\n",
      "dtypes: float64(2), int64(5), object(5)\n",
      "memory usage: 736.9+ KB\n"
     ]
    }
   ],
   "source": [
    "data.info()"
   ]
  },
  {
   "cell_type": "code",
   "execution_count": 8,
   "id": "31391948",
   "metadata": {},
   "outputs": [],
   "source": [
    "data['gender'].value_counts()\n",
    "male_candidate=6701\n",
    "female_candidate=554"
   ]
  },
  {
   "cell_type": "code",
   "execution_count": 9,
   "id": "d27fa85d",
   "metadata": {},
   "outputs": [
    {
     "name": "stdout",
     "output_type": "stream",
     "text": [
      "percentage of female candidate: 8.27 %\n"
     ]
    }
   ],
   "source": [
    "#percentage of female candidate contests election\n",
    "data['gender'].value_counts()\n",
    "print('percentage of female candidate:',round((554/6701)*100,2),'%')"
   ]
  },
  {
   "cell_type": "code",
   "execution_count": 10,
   "id": "bced7561",
   "metadata": {},
   "outputs": [
    {
     "data": {
      "text/plain": [
       "GEN    6023\n",
       "SC     1166\n",
       "ST       67\n",
       "Name: seat_category, dtype: int64"
      ]
     },
     "execution_count": 10,
     "metadata": {},
     "output_type": "execute_result"
    }
   ],
   "source": [
    "data['seat_category'].value_counts()"
   ]
  },
  {
   "cell_type": "code",
   "execution_count": 11,
   "id": "f90f1557",
   "metadata": {},
   "outputs": [
    {
     "data": {
      "text/plain": [
       "obc    4596\n",
       "gen    1312\n",
       "sc     1286\n",
       "st       62\n",
       "Name: caste, dtype: int64"
      ]
     },
     "execution_count": 11,
     "metadata": {},
     "output_type": "execute_result"
    }
   ],
   "source": [
    "#total number of candidate caste wise\n",
    "data['caste'].value_counts()"
   ]
  },
  {
   "cell_type": "code",
   "execution_count": 12,
   "id": "ae9d4897",
   "metadata": {},
   "outputs": [
    {
     "data": {
      "text/plain": [
       "array(['BMUP', 'IND', 'LJP', 'JP', 'CPI', 'CPI(ML)(L)', 'SP', 'TPLRSP',\n",
       "       'INC', 'SHS', 'RTJHPR', 'RJD', 'CPM', 'BJP', 'BED', 'BSP', 'PPID',\n",
       "       'RLSP', 'RJnJnP', 'NCP', 'BJJD', 'JKiP', 'SBSP', 'SaBP', 'RSWD',\n",
       "       'JD(U)', 'RPPRINAT', 'JD(S)', 'ANC', 'SPL', 'PBLBRP', 'HNDUAWMMNC',\n",
       "       'RSTSWNTP', 'RSTSAHP', 'AngSP', 'BAHUMP', 'VCSMP', 'BPL', 'LSSP',\n",
       "       'BMF', 'RJBP', 'SJPR', 'SUCI', 'RSMD', 'AIMF', 'NJANP', 'VBA',\n",
       "       'BJKD(D)', 'JAPL', 'JP(S)', 'AAAAP', 'APKSP', 'RJPty', 'BVM',\n",
       "       'VSIP', 'WAP', 'AMiP', 'IJP', 'SSD', 'KSLJNP', 'VIP', 'BHRTSBLP',\n",
       "       'APoI', 'RTPP', 'JPS', 'BDlP', 'SAP', 'BRRTD', 'JANADIP', 'JMM',\n",
       "       'RSTJLKPS', 'RSSCMJP', 'BHAIP', 'KSP', 'CPIM', 'SANVP', 'RJCHD',\n",
       "       'RSD', 'AIMIM', 'BYPP', 'SDPI', 'AIFB', 'LPSP', 'ASP', 'JNSNGHDL',\n",
       "       'BNDl', 'RPP', 'SJDD', 'SBP', 'BJKD', 'PSS', 'BJNJGD', 'SPAKP',\n",
       "       'LGJNPSCL', 'RSTJNVKSP', 'BHULKD', 'SJP', 'RKJP', 'MKDVP',\n",
       "       'RTMNSWP', 'LJVM', 'RTJPS', 'GVP', 'SatBP', 'Ã¯Â»Â¿AIFB', 'HAMS',\n",
       "       'LS', 'LJD', 'JMBP', 'JSVP', 'JDR', 'AJPR', 'BVP', 'LSD',\n",
       "       'JNSHKVPD', 'YKP', 'RJANSWP', 'BEPR', 'PMP', 'RVNP', 'LKSHPLK',\n",
       "       'JKNPP', 'RS', 'BRTYLKNYKP', 'KPOI', 'AZSP', 'RaJPa', 'JTLP',\n",
       "       'MUL', 'AAM', 'INL', 'JVM(P)', 'VPI', 'MCPI(S)', 'SP(L)', 'SD',\n",
       "       'HND', 'BJKVP', 'AHFBK', 'BBMP', 'SHtP', 'ABAS', 'JGHTP', 'JRJP',\n",
       "       'BTMSP', 'FJKSP', 'pms', 'RJSPS', 'SAAFP', 'IJK', 'SWAP', 'BHJJP',\n",
       "       'LCD', 'JKM', 'YBS', 'SRSMJNP', 'SWARAJ', 'LOS', 'JPJD', 'RSP',\n",
       "       'PMPT', 'AD', 'PBI', 'MOSP', 'PECP', 'SP(I)', 'AMJNMTP', 'HSP',\n",
       "       'ABJS', 'INGP', 'SANKISVP', 'BLRP', 'ABMVMP', 'RJJM', 'SAMDAL',\n",
       "       'JTVP', 'PRAJAP', 'SJPB', 'JAC', 'BhNP', 'LSWP', 'JASP', 'RUC',\n",
       "       'ACDP', 'BLND', 'AIFB(S)', 'ABMP', 'AIBJRSNC', 'BAJVP', 'RTSHD',\n",
       "       'RSP(S)', 'SBSPSP', 'ABHKP', 'BGMP', 'NTP', 'BaSaPa', 'ASDHP',\n",
       "       'RSPS', 'RSTWDMNRTP', 'ABDBM', 'HSAP', 'ABHM', 'BHRTLKCHTP', 'HVD',\n",
       "       'BhAmAP', 'AJPS', 'NPEP', 'AKBMP', 'RJPD', 'BRMNP', 'LSMP', 'JHP',\n",
       "       'SWSP', 'MZEKP', 'RTORP', 'BJNP', 'JmtP', 'NJP', 'BHRTSYTKP',\n",
       "       'BVDU', 'ABSP', 'BRCTP', 'BKVP', 'AIMEIEM', 'RPI(A)', 'RAUNTP',\n",
       "       'GGP', 'JD', 'LOKJANP', 'RWJS', 'BHJP', 'ABAPSMP', 'BIP', 'JDP',\n",
       "       'RJKPS', 'RPIRASH', 'BKKMP', 'RPI', 'GJKP', 'SHD', 'NFDEP', 'AP',\n",
       "       'AKHDBRYVP', 'YGKRTDL', 'LAJSP', 'BS', 'AKNDBHRJNP', 'JRVP', 'RJP',\n",
       "       'RMGP', 'BMP', 'RDU', 'APADP', 'LSP', 'ManJP', 'BSSPA', 'RGPP',\n",
       "       'ASPKR', 'LD', 'JMVP', 'LM', 'BSP(K)', 'BBC', 'AKBHAD', 'PMSP',\n",
       "       'RTSMJD', 'MADP', 'GJNP', 'mimm'], dtype=object)"
      ]
     },
     "execution_count": 12,
     "metadata": {},
     "output_type": "execute_result"
    }
   ],
   "source": [
    "# name of all party who participated in election\n",
    "data['party'].unique()"
   ]
  },
  {
   "cell_type": "code",
   "execution_count": 13,
   "id": "13f89b96",
   "metadata": {},
   "outputs": [
    {
     "data": {
      "text/plain": [
       "269"
      ]
     },
     "execution_count": 13,
     "metadata": {},
     "output_type": "execute_result"
    }
   ],
   "source": [
    "# total number of unique party who contests election\n",
    "len(data['party'].unique())"
   ]
  },
  {
   "cell_type": "code",
   "execution_count": 14,
   "id": "e168507f",
   "metadata": {},
   "outputs": [
    {
     "data": {
      "text/plain": [
       "IND       2641\n",
       "BSP        317\n",
       "INC        313\n",
       "RJD        312\n",
       "JD(U)      256\n",
       "          ... \n",
       "RWJS         1\n",
       "SBSPSP       1\n",
       "RaJPa        1\n",
       "JDP          1\n",
       "mimm         1\n",
       "Name: party, Length: 269, dtype: int64"
      ]
     },
     "execution_count": 14,
     "metadata": {},
     "output_type": "execute_result"
    }
   ],
   "source": [
    "#number of seats on which party contest election \n",
    "data['party'].value_counts()"
   ]
  },
  {
   "cell_type": "code",
   "execution_count": 15,
   "id": "c9936b1c",
   "metadata": {},
   "outputs": [
    {
     "name": "stdout",
     "output_type": "stream",
     "text": [
      "average age of candidate: 44.428514332965825\n",
      "average age winning candidate: 44.77227926078029\n"
     ]
    }
   ],
   "source": [
    "#average age of candidate\n",
    "print('average age of candidate:',data['age'].mean())\n",
    "\n",
    "#average age of candidate who won the election\n",
    "print('average age winning candidate:',data[data['result']==1]['age'].mean())"
   ]
  },
  {
   "cell_type": "code",
   "execution_count": 16,
   "id": "fb4e231b",
   "metadata": {},
   "outputs": [
    {
     "data": {
      "text/html": [
       "<div>\n",
       "<style scoped>\n",
       "    .dataframe tbody tr th:only-of-type {\n",
       "        vertical-align: middle;\n",
       "    }\n",
       "\n",
       "    .dataframe tbody tr th {\n",
       "        vertical-align: top;\n",
       "    }\n",
       "\n",
       "    .dataframe thead th {\n",
       "        text-align: right;\n",
       "    }\n",
       "</style>\n",
       "<table border=\"1\" class=\"dataframe\">\n",
       "  <thead>\n",
       "    <tr style=\"text-align: right;\">\n",
       "      <th></th>\n",
       "      <th>assembly_no</th>\n",
       "      <th>year</th>\n",
       "      <th>candidate</th>\n",
       "      <th>gender</th>\n",
       "      <th>age</th>\n",
       "      <th>seat_category</th>\n",
       "      <th>caste</th>\n",
       "      <th>party</th>\n",
       "      <th>total_electors</th>\n",
       "      <th>result</th>\n",
       "      <th>contested</th>\n",
       "      <th>mus_pop</th>\n",
       "    </tr>\n",
       "  </thead>\n",
       "  <tbody>\n",
       "    <tr>\n",
       "      <th>4160</th>\n",
       "      <td>141</td>\n",
       "      <td>2015</td>\n",
       "      <td>BANWARI PASWAN</td>\n",
       "      <td>MALE</td>\n",
       "      <td>51.0</td>\n",
       "      <td>SC</td>\n",
       "      <td>sc</td>\n",
       "      <td>BMUP</td>\n",
       "      <td>249251</td>\n",
       "      <td>0</td>\n",
       "      <td>0</td>\n",
       "      <td>13.71</td>\n",
       "    </tr>\n",
       "    <tr>\n",
       "      <th>4839</th>\n",
       "      <td>165</td>\n",
       "      <td>2010</td>\n",
       "      <td>Uchit Kumar</td>\n",
       "      <td>MALE</td>\n",
       "      <td>37.3</td>\n",
       "      <td>GEN</td>\n",
       "      <td>obc</td>\n",
       "      <td>IND</td>\n",
       "      <td>268850</td>\n",
       "      <td>0</td>\n",
       "      <td>0</td>\n",
       "      <td>8.07</td>\n",
       "    </tr>\n",
       "    <tr>\n",
       "      <th>1875</th>\n",
       "      <td>68</td>\n",
       "      <td>2015</td>\n",
       "      <td>Bibhash Chandra Choudhary</td>\n",
       "      <td>MALE</td>\n",
       "      <td>31.0</td>\n",
       "      <td>GEN</td>\n",
       "      <td>obc</td>\n",
       "      <td>LJP</td>\n",
       "      <td>271982</td>\n",
       "      <td>0</td>\n",
       "      <td>0</td>\n",
       "      <td>44.47</td>\n",
       "    </tr>\n",
       "    <tr>\n",
       "      <th>4006</th>\n",
       "      <td>135</td>\n",
       "      <td>2015</td>\n",
       "      <td>AMAR KUMAR JHA</td>\n",
       "      <td>MALE</td>\n",
       "      <td>43.8</td>\n",
       "      <td>GEN</td>\n",
       "      <td>obc</td>\n",
       "      <td>JP</td>\n",
       "      <td>270457</td>\n",
       "      <td>0</td>\n",
       "      <td>0</td>\n",
       "      <td>10.62</td>\n",
       "    </tr>\n",
       "    <tr>\n",
       "      <th>4456</th>\n",
       "      <td>152</td>\n",
       "      <td>2010</td>\n",
       "      <td>Renu Choudhary</td>\n",
       "      <td>MALE</td>\n",
       "      <td>42.6</td>\n",
       "      <td>GEN</td>\n",
       "      <td>obc</td>\n",
       "      <td>CPI</td>\n",
       "      <td>208378</td>\n",
       "      <td>0</td>\n",
       "      <td>0</td>\n",
       "      <td>17.68</td>\n",
       "    </tr>\n",
       "    <tr>\n",
       "      <th>...</th>\n",
       "      <td>...</td>\n",
       "      <td>...</td>\n",
       "      <td>...</td>\n",
       "      <td>...</td>\n",
       "      <td>...</td>\n",
       "      <td>...</td>\n",
       "      <td>...</td>\n",
       "      <td>...</td>\n",
       "      <td>...</td>\n",
       "      <td>...</td>\n",
       "      <td>...</td>\n",
       "      <td>...</td>\n",
       "    </tr>\n",
       "    <tr>\n",
       "      <th>1180</th>\n",
       "      <td>42</td>\n",
       "      <td>2010</td>\n",
       "      <td>Rajendera Nirala</td>\n",
       "      <td>MALE</td>\n",
       "      <td>49.0</td>\n",
       "      <td>GEN</td>\n",
       "      <td>obc</td>\n",
       "      <td>RJP</td>\n",
       "      <td>211456</td>\n",
       "      <td>0</td>\n",
       "      <td>0</td>\n",
       "      <td>18.36</td>\n",
       "    </tr>\n",
       "    <tr>\n",
       "      <th>3441</th>\n",
       "      <td>117</td>\n",
       "      <td>2010</td>\n",
       "      <td>Khurshid Alam</td>\n",
       "      <td>MALE</td>\n",
       "      <td>59.0</td>\n",
       "      <td>GEN</td>\n",
       "      <td>obc</td>\n",
       "      <td>JP(S)</td>\n",
       "      <td>187178</td>\n",
       "      <td>0</td>\n",
       "      <td>0</td>\n",
       "      <td>10.28</td>\n",
       "    </tr>\n",
       "    <tr>\n",
       "      <th>1344</th>\n",
       "      <td>48</td>\n",
       "      <td>2010</td>\n",
       "      <td>Pradeep Yadav</td>\n",
       "      <td>MALE</td>\n",
       "      <td>39.0</td>\n",
       "      <td>GEN</td>\n",
       "      <td>obc</td>\n",
       "      <td>SP</td>\n",
       "      <td>241677</td>\n",
       "      <td>0</td>\n",
       "      <td>1</td>\n",
       "      <td>42.95</td>\n",
       "    </tr>\n",
       "    <tr>\n",
       "      <th>4623</th>\n",
       "      <td>158</td>\n",
       "      <td>2015</td>\n",
       "      <td>BRAHAMDEV PASWAN</td>\n",
       "      <td>MALE</td>\n",
       "      <td>38.2</td>\n",
       "      <td>SC</td>\n",
       "      <td>sc</td>\n",
       "      <td>IND</td>\n",
       "      <td>326124</td>\n",
       "      <td>0</td>\n",
       "      <td>0</td>\n",
       "      <td>17.68</td>\n",
       "    </tr>\n",
       "    <tr>\n",
       "      <th>1289</th>\n",
       "      <td>46</td>\n",
       "      <td>2010</td>\n",
       "      <td>Anant Kumar Roy</td>\n",
       "      <td>MALE</td>\n",
       "      <td>38.0</td>\n",
       "      <td>GEN</td>\n",
       "      <td>obc</td>\n",
       "      <td>IND</td>\n",
       "      <td>237915</td>\n",
       "      <td>0</td>\n",
       "      <td>0</td>\n",
       "      <td>42.95</td>\n",
       "    </tr>\n",
       "  </tbody>\n",
       "</table>\n",
       "<p>7256 rows × 12 columns</p>\n",
       "</div>"
      ],
      "text/plain": [
       "      assembly_no  year                  candidate gender   age seat_category  \\\n",
       "4160          141  2015             BANWARI PASWAN   MALE  51.0            SC   \n",
       "4839          165  2010                Uchit Kumar   MALE  37.3           GEN   \n",
       "1875           68  2015  Bibhash Chandra Choudhary   MALE  31.0           GEN   \n",
       "4006          135  2015             AMAR KUMAR JHA   MALE  43.8           GEN   \n",
       "4456          152  2010             Renu Choudhary   MALE  42.6           GEN   \n",
       "...           ...   ...                        ...    ...   ...           ...   \n",
       "1180           42  2010           Rajendera Nirala   MALE  49.0           GEN   \n",
       "3441          117  2010              Khurshid Alam   MALE  59.0           GEN   \n",
       "1344           48  2010              Pradeep Yadav   MALE  39.0           GEN   \n",
       "4623          158  2015           BRAHAMDEV PASWAN   MALE  38.2            SC   \n",
       "1289           46  2010            Anant Kumar Roy   MALE  38.0           GEN   \n",
       "\n",
       "     caste  party   total_electors  result  contested  mus_pop  \n",
       "4160    sc   BMUP           249251       0          0    13.71  \n",
       "4839   obc    IND           268850       0          0     8.07  \n",
       "1875   obc    LJP           271982       0          0    44.47  \n",
       "4006   obc     JP           270457       0          0    10.62  \n",
       "4456   obc    CPI           208378       0          0    17.68  \n",
       "...    ...    ...              ...     ...        ...      ...  \n",
       "1180   obc    RJP           211456       0          0    18.36  \n",
       "3441   obc  JP(S)           187178       0          0    10.28  \n",
       "1344   obc     SP           241677       0          1    42.95  \n",
       "4623    sc    IND           326124       0          0    17.68  \n",
       "1289   obc    IND           237915       0          0    42.95  \n",
       "\n",
       "[7256 rows x 12 columns]"
      ]
     },
     "execution_count": 16,
     "metadata": {},
     "output_type": "execute_result"
    }
   ],
   "source": [
    "data"
   ]
  },
  {
   "cell_type": "code",
   "execution_count": 17,
   "id": "68eaa561",
   "metadata": {},
   "outputs": [
    {
     "name": "stdout",
     "output_type": "stream",
     "text": [
      "442\n",
      "45\n"
     ]
    }
   ],
   "source": [
    "#number of male winning candidate \n",
    "male_winner=(data[data['gender']=='MALE']['result'].sum())\n",
    "print(male_winner)\n",
    "\n",
    "#number of female winning candidate\n",
    "female_winner=(data[data['gender']=='FEMALE']['result'].sum())\n",
    "print(female_winner)"
   ]
  },
  {
   "cell_type": "code",
   "execution_count": 18,
   "id": "aec271c6",
   "metadata": {},
   "outputs": [
    {
     "name": "stdout",
     "output_type": "stream",
     "text": [
      "male strike rate: 6.596030443217431\n",
      "female strike rate: 8.12274368231047\n"
     ]
    }
   ],
   "source": [
    "#strike rate gender wise\n",
    "male_str_rate=(male_winner/male_candidate)*100\n",
    "print('male strike rate:',male_str_rate)\n",
    "\n",
    "female_str_rate=(female_winner/female_candidate)*100\n",
    "print('female strike rate:',female_str_rate)"
   ]
  },
  {
   "cell_type": "markdown",
   "id": "7fd507e3",
   "metadata": {},
   "source": [
    "# Graphical Analysis"
   ]
  },
  {
   "cell_type": "code",
   "execution_count": 19,
   "id": "d319f015",
   "metadata": {},
   "outputs": [
    {
     "name": "stderr",
     "output_type": "stream",
     "text": [
      "C:\\Users\\sande\\AppData\\Local\\Temp\\ipykernel_7584\\2497438060.py:3: FutureWarning: The default value of numeric_only in DataFrame.corr is deprecated. In a future version, it will default to False. Select only valid columns or specify the value of numeric_only to silence this warning.\n",
      "  sns.heatmap(data.corr(),annot=True)\n"
     ]
    },
    {
     "data": {
      "text/plain": [
       "<Axes: >"
      ]
     },
     "execution_count": 19,
     "metadata": {},
     "output_type": "execute_result"
    },
    {
     "data": {
      "image/png": "[encoded data removed]",
      "text/plain": [
       "<Figure size 1080x720 with 2 Axes>"
      ]
     },
     "metadata": {
      "needs_background": "light"
     },
     "output_type": "display_data"
    }
   ],
   "source": [
    "#correlation matrix \n",
    "plt.figure(figsize=[15,10])\n",
    "sns.heatmap(data.corr(),annot=True)"
   ]
  },
  {
   "cell_type": "code",
   "execution_count": 20,
   "id": "4b3d2ea6",
   "metadata": {},
   "outputs": [
    {
     "name": "stdout",
     "output_type": "stream",
     "text": [
      "average age of candidate: 44\n"
     ]
    },
    {
     "data": {
      "text/plain": [
       "<Axes: xlabel='age', ylabel='Count'>"
      ]
     },
     "execution_count": 20,
     "metadata": {},
     "output_type": "execute_result"
    },
    {
     "data": {
      "image/png": "[encoded data removed]",
      "text/plain": [
       "<Figure size 432x288 with 1 Axes>"
      ]
     },
     "metadata": {
      "needs_background": "light"
     },
     "output_type": "display_data"
    }
   ],
   "source": [
    "#Histogram for age column\n",
    "print('average age of candidate:',round(data['age'].mean()))\n",
    "sns.histplot(data['age'],bins=10)"
   ]
  },
  {
   "cell_type": "code",
   "execution_count": 21,
   "id": "9a5e3ca9",
   "metadata": {},
   "outputs": [
    {
     "data": {
      "text/plain": [
       "44.77227926078029"
      ]
     },
     "execution_count": 21,
     "metadata": {},
     "output_type": "execute_result"
    }
   ],
   "source": [
    "#average age of candidate who won the election\n",
    "data[data['result']==1]['age'].mean()"
   ]
  },
  {
   "cell_type": "code",
   "execution_count": 22,
   "id": "7885c7fd",
   "metadata": {},
   "outputs": [
    {
     "data": {
      "image/png": "[encoded data removed]",
      "text/plain": [
       "<Figure size 576x1440 with 5 Axes>"
      ]
     },
     "metadata": {
      "needs_background": "light"
     },
     "output_type": "display_data"
    }
   ],
   "source": [
    "# Check basic statistics for categorical columns\n",
    "\n",
    "categorical_columns = ['gender', 'seat_category', 'caste', 'party','result']\n",
    "\n",
    "# Create subplots for count plots\n",
    "fig, axes = plt.subplots(len(categorical_columns), 1, figsize=(8, 20))\n",
    "\n",
    "# Plot the count plots\n",
    "for i, column in enumerate(categorical_columns):\n",
    "    sns.countplot(x=data[column], ax=axes[i])\n",
    "    axes[i].set_title(f'Count of each category in {column}')\n",
    "    axes[i].set_xlabel(column)\n",
    "    axes[i].set_ylabel('Count')\n",
    "\n",
    "plt.tight_layout()\n",
    "plt.show()"
   ]
  },
  {
   "cell_type": "code",
   "execution_count": 23,
   "id": "0a4b2b8b",
   "metadata": {},
   "outputs": [
    {
     "data": {
      "image/png": "[encoded data removed]",
      "text/plain": [
       "<Figure size 432x288 with 1 Axes>"
      ]
     },
     "metadata": {
      "needs_background": "light"
     },
     "output_type": "display_data"
    }
   ],
   "source": [
    "#Clustered Bar Chart:\n",
    "data.groupby(['gender', 'result']).size().unstack().plot(kind='bar', stacked=True)\n",
    "plt.xlabel('gender')\n",
    "plt.ylabel('Count')\n",
    "plt.title('Clustered Bar Chart: Count of result by gender')\n",
    "plt.show()"
   ]
  },
  {
   "cell_type": "markdown",
   "id": "81837dfb",
   "metadata": {},
   "source": [
    "# DATA PROCESSING"
   ]
  },
  {
   "cell_type": "code",
   "execution_count": 21,
   "id": "56e84592",
   "metadata": {},
   "outputs": [],
   "source": [
    "#droping year and candidate\n",
    "data=data.drop(columns=['year','candidate'],axis=1)"
   ]
  },
  {
   "cell_type": "code",
   "execution_count": 22,
   "id": "ed8c944d",
   "metadata": {},
   "outputs": [],
   "source": [
    "#mapping gender column\n",
    "data['gender']=data['gender'].map({'MALE':1,'FEMALE':0,'THIRD':0})"
   ]
  },
  {
   "cell_type": "code",
   "execution_count": 23,
   "id": "7c9c1d42",
   "metadata": {},
   "outputs": [],
   "source": [
    "#creating dummies variable for seat_category\n",
    "data=pd.get_dummies(data,columns=['seat_category'])\n",
    "data=data.drop(['seat_category_ST'],axis=1)"
   ]
  },
  {
   "cell_type": "code",
   "execution_count": 24,
   "id": "2a5ab239",
   "metadata": {},
   "outputs": [],
   "source": [
    "#filling missing value with obc\n",
    "#data['caste']=data['caste'].fillna('obc')\n",
    "\n",
    "#creating dummies variable for caste\n",
    "data=pd.get_dummies(data,columns=['caste'])\n",
    "data=data.drop(['caste_st'],axis=1)"
   ]
  },
  {
   "cell_type": "code",
   "execution_count": 25,
   "id": "7f47fce8",
   "metadata": {},
   "outputs": [],
   "source": [
    "#target encoding\n",
    "\n",
    "#encoder=ce.TargetEncoder(cols=['party'])\n",
    "#encoder_party=encoder.fit_transform(data['party'],data['result'])\n",
    "#data['encoder_party']=encoder_party\n",
    "\n",
    "data[\"party_encoded\"] = data.groupby(\"party\")[\"result\"].transform(\"mean\")+0.0001\n",
    "data=data.drop(['party'],axis=1)"
   ]
  },
  {
   "cell_type": "code",
   "execution_count": 26,
   "id": "b7ce80be",
   "metadata": {},
   "outputs": [
    {
     "data": {
      "text/plain": [
       "False    5952\n",
       "True     1304\n",
       "dtype: int64"
      ]
     },
     "execution_count": 26,
     "metadata": {},
     "output_type": "execute_result"
    }
   ],
   "source": [
    "data.duplicated().value_counts()"
   ]
  },
  {
   "cell_type": "code",
   "execution_count": 27,
   "id": "d2ed13a8",
   "metadata": {},
   "outputs": [],
   "source": [
    "data.drop_duplicates(inplace=True)"
   ]
  },
  {
   "cell_type": "code",
   "execution_count": 59,
   "id": "26e1ccb5",
   "metadata": {},
   "outputs": [],
   "source": [
    "#pairplot\n",
    "#plt.figure(figsize=[15,10])\n",
    "#sns.pairplot(data)"
   ]
  },
  {
   "cell_type": "code",
   "execution_count": 60,
   "id": "5929cbbe",
   "metadata": {},
   "outputs": [
    {
     "data": {
      "text/html": [
       "<div>\n",
       "<style scoped>\n",
       "    .dataframe tbody tr th:only-of-type {\n",
       "        vertical-align: middle;\n",
       "    }\n",
       "\n",
       "    .dataframe tbody tr th {\n",
       "        vertical-align: top;\n",
       "    }\n",
       "\n",
       "    .dataframe thead th {\n",
       "        text-align: right;\n",
       "    }\n",
       "</style>\n",
       "<table border=\"1\" class=\"dataframe\">\n",
       "  <thead>\n",
       "    <tr style=\"text-align: right;\">\n",
       "      <th></th>\n",
       "      <th>assembly_no</th>\n",
       "      <th>gender</th>\n",
       "      <th>age</th>\n",
       "      <th>total_electors</th>\n",
       "      <th>result</th>\n",
       "      <th>contested</th>\n",
       "      <th>mus_pop</th>\n",
       "      <th>seat_category_GEN</th>\n",
       "      <th>seat_category_SC</th>\n",
       "      <th>caste_gen</th>\n",
       "      <th>caste_obc</th>\n",
       "      <th>caste_sc</th>\n",
       "      <th>party_encoded</th>\n",
       "    </tr>\n",
       "  </thead>\n",
       "  <tbody>\n",
       "    <tr>\n",
       "      <th>4160</th>\n",
       "      <td>141</td>\n",
       "      <td>1</td>\n",
       "      <td>51.0</td>\n",
       "      <td>249251</td>\n",
       "      <td>0</td>\n",
       "      <td>0</td>\n",
       "      <td>13.71</td>\n",
       "      <td>0</td>\n",
       "      <td>1</td>\n",
       "      <td>0</td>\n",
       "      <td>0</td>\n",
       "      <td>1</td>\n",
       "      <td>0.000100</td>\n",
       "    </tr>\n",
       "    <tr>\n",
       "      <th>4839</th>\n",
       "      <td>165</td>\n",
       "      <td>1</td>\n",
       "      <td>37.3</td>\n",
       "      <td>268850</td>\n",
       "      <td>0</td>\n",
       "      <td>0</td>\n",
       "      <td>8.07</td>\n",
       "      <td>1</td>\n",
       "      <td>0</td>\n",
       "      <td>0</td>\n",
       "      <td>1</td>\n",
       "      <td>0</td>\n",
       "      <td>0.002372</td>\n",
       "    </tr>\n",
       "    <tr>\n",
       "      <th>1875</th>\n",
       "      <td>68</td>\n",
       "      <td>1</td>\n",
       "      <td>31.0</td>\n",
       "      <td>271982</td>\n",
       "      <td>0</td>\n",
       "      <td>0</td>\n",
       "      <td>44.47</td>\n",
       "      <td>1</td>\n",
       "      <td>0</td>\n",
       "      <td>0</td>\n",
       "      <td>1</td>\n",
       "      <td>0</td>\n",
       "      <td>0.062005</td>\n",
       "    </tr>\n",
       "    <tr>\n",
       "      <th>4006</th>\n",
       "      <td>135</td>\n",
       "      <td>1</td>\n",
       "      <td>43.8</td>\n",
       "      <td>270457</td>\n",
       "      <td>0</td>\n",
       "      <td>0</td>\n",
       "      <td>10.62</td>\n",
       "      <td>1</td>\n",
       "      <td>0</td>\n",
       "      <td>0</td>\n",
       "      <td>1</td>\n",
       "      <td>0</td>\n",
       "      <td>0.000100</td>\n",
       "    </tr>\n",
       "    <tr>\n",
       "      <th>4456</th>\n",
       "      <td>152</td>\n",
       "      <td>1</td>\n",
       "      <td>42.6</td>\n",
       "      <td>208378</td>\n",
       "      <td>0</td>\n",
       "      <td>0</td>\n",
       "      <td>17.68</td>\n",
       "      <td>1</td>\n",
       "      <td>0</td>\n",
       "      <td>0</td>\n",
       "      <td>1</td>\n",
       "      <td>0</td>\n",
       "      <td>0.032358</td>\n",
       "    </tr>\n",
       "    <tr>\n",
       "      <th>...</th>\n",
       "      <td>...</td>\n",
       "      <td>...</td>\n",
       "      <td>...</td>\n",
       "      <td>...</td>\n",
       "      <td>...</td>\n",
       "      <td>...</td>\n",
       "      <td>...</td>\n",
       "      <td>...</td>\n",
       "      <td>...</td>\n",
       "      <td>...</td>\n",
       "      <td>...</td>\n",
       "      <td>...</td>\n",
       "      <td>...</td>\n",
       "    </tr>\n",
       "    <tr>\n",
       "      <th>1180</th>\n",
       "      <td>42</td>\n",
       "      <td>1</td>\n",
       "      <td>49.0</td>\n",
       "      <td>211456</td>\n",
       "      <td>0</td>\n",
       "      <td>0</td>\n",
       "      <td>18.36</td>\n",
       "      <td>1</td>\n",
       "      <td>0</td>\n",
       "      <td>0</td>\n",
       "      <td>1</td>\n",
       "      <td>0</td>\n",
       "      <td>0.000100</td>\n",
       "    </tr>\n",
       "    <tr>\n",
       "      <th>3441</th>\n",
       "      <td>117</td>\n",
       "      <td>1</td>\n",
       "      <td>59.0</td>\n",
       "      <td>187178</td>\n",
       "      <td>0</td>\n",
       "      <td>0</td>\n",
       "      <td>10.28</td>\n",
       "      <td>1</td>\n",
       "      <td>0</td>\n",
       "      <td>0</td>\n",
       "      <td>1</td>\n",
       "      <td>0</td>\n",
       "      <td>0.000100</td>\n",
       "    </tr>\n",
       "    <tr>\n",
       "      <th>1344</th>\n",
       "      <td>48</td>\n",
       "      <td>1</td>\n",
       "      <td>39.0</td>\n",
       "      <td>241677</td>\n",
       "      <td>0</td>\n",
       "      <td>1</td>\n",
       "      <td>42.95</td>\n",
       "      <td>1</td>\n",
       "      <td>0</td>\n",
       "      <td>0</td>\n",
       "      <td>1</td>\n",
       "      <td>0</td>\n",
       "      <td>0.000100</td>\n",
       "    </tr>\n",
       "    <tr>\n",
       "      <th>4623</th>\n",
       "      <td>158</td>\n",
       "      <td>1</td>\n",
       "      <td>38.2</td>\n",
       "      <td>326124</td>\n",
       "      <td>0</td>\n",
       "      <td>0</td>\n",
       "      <td>17.68</td>\n",
       "      <td>0</td>\n",
       "      <td>1</td>\n",
       "      <td>0</td>\n",
       "      <td>0</td>\n",
       "      <td>1</td>\n",
       "      <td>0.002372</td>\n",
       "    </tr>\n",
       "    <tr>\n",
       "      <th>1289</th>\n",
       "      <td>46</td>\n",
       "      <td>1</td>\n",
       "      <td>38.0</td>\n",
       "      <td>237915</td>\n",
       "      <td>0</td>\n",
       "      <td>0</td>\n",
       "      <td>42.95</td>\n",
       "      <td>1</td>\n",
       "      <td>0</td>\n",
       "      <td>0</td>\n",
       "      <td>1</td>\n",
       "      <td>0</td>\n",
       "      <td>0.002372</td>\n",
       "    </tr>\n",
       "  </tbody>\n",
       "</table>\n",
       "<p>5952 rows × 13 columns</p>\n",
       "</div>"
      ],
      "text/plain": [
       "      assembly_no  gender   age   total_electors  result  contested  mus_pop  \\\n",
       "4160          141       1  51.0           249251       0          0    13.71   \n",
       "4839          165       1  37.3           268850       0          0     8.07   \n",
       "1875           68       1  31.0           271982       0          0    44.47   \n",
       "4006          135       1  43.8           270457       0          0    10.62   \n",
       "4456          152       1  42.6           208378       0          0    17.68   \n",
       "...           ...     ...   ...              ...     ...        ...      ...   \n",
       "1180           42       1  49.0           211456       0          0    18.36   \n",
       "3441          117       1  59.0           187178       0          0    10.28   \n",
       "1344           48       1  39.0           241677       0          1    42.95   \n",
       "4623          158       1  38.2           326124       0          0    17.68   \n",
       "1289           46       1  38.0           237915       0          0    42.95   \n",
       "\n",
       "      seat_category_GEN  seat_category_SC  caste_gen  caste_obc  caste_sc  \\\n",
       "4160                  0                 1          0          0         1   \n",
       "4839                  1                 0          0          1         0   \n",
       "1875                  1                 0          0          1         0   \n",
       "4006                  1                 0          0          1         0   \n",
       "4456                  1                 0          0          1         0   \n",
       "...                 ...               ...        ...        ...       ...   \n",
       "1180                  1                 0          0          1         0   \n",
       "3441                  1                 0          0          1         0   \n",
       "1344                  1                 0          0          1         0   \n",
       "4623                  0                 1          0          0         1   \n",
       "1289                  1                 0          0          1         0   \n",
       "\n",
       "      party_encoded  \n",
       "4160       0.000100  \n",
       "4839       0.002372  \n",
       "1875       0.062005  \n",
       "4006       0.000100  \n",
       "4456       0.032358  \n",
       "...             ...  \n",
       "1180       0.000100  \n",
       "3441       0.000100  \n",
       "1344       0.000100  \n",
       "4623       0.002372  \n",
       "1289       0.002372  \n",
       "\n",
       "[5952 rows x 13 columns]"
      ]
     },
     "execution_count": 60,
     "metadata": {},
     "output_type": "execute_result"
    }
   ],
   "source": [
    "data"
   ]
  },
  {
   "cell_type": "code",
   "execution_count": null,
   "id": "7b36d6ff",
   "metadata": {},
   "outputs": [],
   "source": [
    "#distribution plot\n",
    "plt.figure(figsize=(15,12))\n",
    "\n",
    "plt_cols = ['gender','age','result','contested','mus_pop','seat_category_GEN','party_encoded','seat_category_SC','caste_gen','caste_obc','caste_sc']\n",
    "\n",
    "# I didnt plot the star_f columns because they are highly correlated to norating1 and noreviews1 \n",
    "# columns & have similar distributions to them\n",
    "\n",
    "k=1\n",
    "for i in plt_cols:\n",
    "    plt.subplot(4,3,k)\n",
    "    sns.distplot(data[i])\n",
    "    k=k+1"
   ]
  },
  {
   "cell_type": "code",
   "execution_count": 30,
   "id": "eb45447e",
   "metadata": {},
   "outputs": [],
   "source": [
    "#dividing input and output\n",
    "x=data.drop(['result'],axis=1)\n",
    "y=data['result']"
   ]
  },
  {
   "cell_type": "markdown",
   "id": "f764d9cf",
   "metadata": {},
   "source": [
    "# Model Building"
   ]
  },
  {
   "cell_type": "code",
   "execution_count": 31,
   "id": "4c9b4334",
   "metadata": {},
   "outputs": [],
   "source": [
    "#Here im using imblearn pipeline insted of pipeline because it handle sampling properly\n",
    "from imblearn.over_sampling import SMOTE\n",
    "from imblearn.pipeline import Pipeline\n",
    "from sklearn.model_selection import cross_val_score"
   ]
  },
  {
   "cell_type": "code",
   "execution_count": 32,
   "id": "ed996ba1",
   "metadata": {},
   "outputs": [],
   "source": [
    "std=StandardScaler()\n",
    "x_train_std=std.fit_transform(x)"
   ]
  },
  {
   "cell_type": "code",
   "execution_count": 33,
   "id": "3666b717",
   "metadata": {},
   "outputs": [
    {
     "data": {
      "text/plain": [
       "array([0.96341281, 0.91411954, 0.96474283, 0.93300384, 0.95344319])"
      ]
     },
     "execution_count": 33,
     "metadata": {},
     "output_type": "execute_result"
    }
   ],
   "source": [
    "#lOGISTIC REGESSION\n",
    "lr=LogisticRegression()\n",
    "resampling=SMOTE()\n",
    "pipeline=Pipeline([('SMOTE',resampling),('LOGISTIC' ,lr)])\n",
    "scores=cross_val_score(pipeline,x_train_std,y,scoring='roc_auc',cv=5)\n",
    "scores"
   ]
  },
  {
   "cell_type": "code",
   "execution_count": 34,
   "id": "1921585d",
   "metadata": {},
   "outputs": [
    {
     "name": "stdout",
     "output_type": "stream",
     "text": [
      "Average Score is: 0.9457444414651006\n",
      "Standard Deviation of score: 0.019467092774259325\n"
     ]
    }
   ],
   "source": [
    "print('Average Score is:',scores.mean())\n",
    "print('Standard Deviation of score:',np.std(scores))"
   ]
  },
  {
   "cell_type": "code",
   "execution_count": null,
   "id": "0ca72a70",
   "metadata": {},
   "outputs": [],
   "source": []
  },
  {
   "cell_type": "code",
   "execution_count": 35,
   "id": "e901697f",
   "metadata": {},
   "outputs": [
    {
     "data": {
      "text/plain": [
       "array([0.94496518, 0.89211494, 0.92942908, 0.93795569, 0.94754813])"
      ]
     },
     "execution_count": 35,
     "metadata": {},
     "output_type": "execute_result"
    }
   ],
   "source": [
    "#Gaussian Naive Bayes\n",
    "nb=GaussianNB()\n",
    "resampling=SMOTE()\n",
    "pipeline=Pipeline([('SMOTE',resampling),('BAYES' ,nb)])\n",
    "scores=cross_val_score(pipeline,x_train_std,y,scoring='roc_auc',cv=5)\n",
    "scores"
   ]
  },
  {
   "cell_type": "code",
   "execution_count": 36,
   "id": "c5229ceb",
   "metadata": {},
   "outputs": [
    {
     "name": "stdout",
     "output_type": "stream",
     "text": [
      "Average Score is: 0.9304026021798915\n",
      "Standard Deviation of score: 0.020149339110149145\n"
     ]
    }
   ],
   "source": [
    "print('Average Score is:',scores.mean())\n",
    "print('Standard Deviation of score:',np.std(scores))"
   ]
  },
  {
   "cell_type": "code",
   "execution_count": 37,
   "id": "391baaa8",
   "metadata": {},
   "outputs": [
    {
     "data": {
      "text/plain": [
       "array([0.94582408, 0.93244581, 0.96043237, 0.94937795, 0.95657464])"
      ]
     },
     "execution_count": 37,
     "metadata": {},
     "output_type": "execute_result"
    }
   ],
   "source": [
    "#Support Vector Machine\n",
    "svc=SVC(kernel='rbf',C=0.2)\n",
    "resampling=SMOTE()\n",
    "pipeline=Pipeline([('SMOTE',resampling),('SVC' ,svc)])\n",
    "scores=cross_val_score(pipeline,x_train_std,y,scoring='roc_auc',cv=5)\n",
    "scores"
   ]
  },
  {
   "cell_type": "code",
   "execution_count": 38,
   "id": "97114284",
   "metadata": {},
   "outputs": [
    {
     "name": "stdout",
     "output_type": "stream",
     "text": [
      "Average Score is: 0.9489309684315526\n",
      "Standard Deviation of score: 0.009719270364207286\n"
     ]
    }
   ],
   "source": [
    "print('Average Score is:',scores.mean())\n",
    "print('Standard Deviation of score:',np.std(scores))"
   ]
  },
  {
   "cell_type": "code",
   "execution_count": 39,
   "id": "ff989843",
   "metadata": {},
   "outputs": [
    {
     "data": {
      "text/plain": [
       "array([0.95107082, 0.94812069, 0.9675536 , 0.95822526, 0.96254516])"
      ]
     },
     "execution_count": 39,
     "metadata": {},
     "output_type": "execute_result"
    }
   ],
   "source": [
    "#LightGBM\n",
    "lgb=LGBMClassifier()\n",
    "resampling=SMOTE()\n",
    "pipeline=Pipeline([('SMOTE',resampling),('LightGBM' ,lgb)])\n",
    "scores=cross_val_score(pipeline,x_train_std,y,scoring='roc_auc',cv=5)\n",
    "scores"
   ]
  },
  {
   "cell_type": "code",
   "execution_count": 44,
   "id": "eac6921f",
   "metadata": {},
   "outputs": [
    {
     "name": "stdout",
     "output_type": "stream",
     "text": [
      "Average Score is: 0.6376225662978966\n",
      "Standard Deviation of score: 0.02917283377706535\n"
     ]
    }
   ],
   "source": [
    "print('Average Score is:',scores.mean())\n",
    "print('Standard Deviation of score:',np.std(scores))"
   ]
  },
  {
   "cell_type": "code",
   "execution_count": 40,
   "id": "80168ceb",
   "metadata": {},
   "outputs": [
    {
     "data": {
      "text/plain": [
       "array([0.94368617, 0.94471311, 0.96337518, 0.94842531, 0.95684817])"
      ]
     },
     "execution_count": 40,
     "metadata": {},
     "output_type": "execute_result"
    }
   ],
   "source": [
    "#XGBOOST CLASSIFIER\n",
    "xgb=XGBClassifier()\n",
    "resampling=SMOTE()\n",
    "pipeline=Pipeline([('SMOTE',resampling),('logistic regression' ,xgb)])\n",
    "scores=cross_val_score(pipeline,x_train_std,y,scoring='roc_auc',cv=5)\n",
    "scores"
   ]
  },
  {
   "cell_type": "code",
   "execution_count": 41,
   "id": "dac44bb6",
   "metadata": {},
   "outputs": [
    {
     "name": "stdout",
     "output_type": "stream",
     "text": [
      "Average Score is: 0.9514095878964295\n",
      "Standard Deviation of score: 0.007565098373448123\n"
     ]
    }
   ],
   "source": [
    "print('Average Score is:',scores.mean())\n",
    "print('Standard Deviation of score:',np.std(scores))"
   ]
  },
  {
   "cell_type": "code",
   "execution_count": 42,
   "id": "4bcc7ea1",
   "metadata": {},
   "outputs": [
    {
     "data": {
      "text/plain": [
       "array([0.76421383, 0.7679435 , 0.86430518, 0.7717339 , 0.79351261])"
      ]
     },
     "execution_count": 42,
     "metadata": {},
     "output_type": "execute_result"
    }
   ],
   "source": [
    "#Decision Tree\n",
    "dt=DecisionTreeClassifier()\n",
    "resampling=SMOTE()\n",
    "pipeline=Pipeline([('SMOTE',resampling),('Decision Tree' ,dt)])\n",
    "scores=cross_val_score(pipeline,x_train_std,y,scoring='roc_auc',cv=5)\n",
    "scores"
   ]
  },
  {
   "cell_type": "code",
   "execution_count": 43,
   "id": "877819c0",
   "metadata": {},
   "outputs": [
    {
     "name": "stdout",
     "output_type": "stream",
     "text": [
      "Average Score is: 0.7923418040592266\n",
      "Standard Deviation of score: 0.037393167491085066\n"
     ]
    }
   ],
   "source": [
    "print('Average Score is:',scores.mean())\n",
    "print('Standard Deviation of score:',np.std(scores))"
   ]
  },
  {
   "cell_type": "code",
   "execution_count": 44,
   "id": "8e42edf4",
   "metadata": {},
   "outputs": [
    {
     "data": {
      "text/plain": [
       "array([0.9428086 , 0.93286125, 0.95990417, 0.95041077, 0.94908556])"
      ]
     },
     "execution_count": 44,
     "metadata": {},
     "output_type": "execute_result"
    }
   ],
   "source": [
    "#Random Forest\n",
    "rf=RandomForestClassifier()\n",
    "resampling=SMOTE()\n",
    "pipeline=Pipeline([('SMOTE',resampling),('Random Forest' ,rf)])\n",
    "scores=cross_val_score(pipeline,x_train_std,y,scoring='roc_auc',cv=5)\n",
    "scores"
   ]
  },
  {
   "cell_type": "code",
   "execution_count": 45,
   "id": "7948f62b",
   "metadata": {},
   "outputs": [
    {
     "name": "stdout",
     "output_type": "stream",
     "text": [
      "Average Score is: 0.9470140686413877\n",
      "Standard Deviation of score: 0.008943954381438642\n"
     ]
    }
   ],
   "source": [
    "print('Average Score is:',scores.mean())\n",
    "print('Standard Deviation of score:',np.std(scores))"
   ]
  },
  {
   "cell_type": "code",
   "execution_count": 46,
   "id": "55d853a9",
   "metadata": {},
   "outputs": [
    {
     "data": {
      "text/plain": [
       "array([0.6770428 , 0.61132075, 0.67938931, 0.675     , 0.6405694 ])"
      ]
     },
     "execution_count": 46,
     "metadata": {},
     "output_type": "execute_result"
    }
   ],
   "source": [
    "model=VotingClassifier(estimators=[('lr',lr),('svc',svc),('nb',nb)],voting='hard')\n",
    "resampling=SMOTE()\n",
    "pipeline=Pipeline([('SMOTE',resampling),('voting_class' ,model)])\n",
    "scores=cross_val_score(pipeline,x_train_std,y,scoring='f1',cv=5)\n",
    "scores"
   ]
  },
  {
   "cell_type": "code",
   "execution_count": 47,
   "id": "02139c91",
   "metadata": {},
   "outputs": [
    {
     "name": "stdout",
     "output_type": "stream",
     "text": [
      "Average Score is: 0.6566644528536589\n",
      "Standard Deviation of score: 0.026769350011111474\n"
     ]
    }
   ],
   "source": [
    "print('Average Score is:',scores.mean())\n",
    "print('Standard Deviation of score:',np.std(scores))"
   ]
  },
  {
   "cell_type": "markdown",
   "id": "bbcf3ad2",
   "metadata": {},
   "source": [
    "# Model Building using train_test_split"
   ]
  },
  {
   "cell_type": "code",
   "execution_count": 48,
   "id": "c36038b3",
   "metadata": {},
   "outputs": [],
   "source": [
    "#train_test_split\n",
    "from sklearn.model_selection import train_test_split"
   ]
  },
  {
   "cell_type": "code",
   "execution_count": 49,
   "id": "8fabcf82",
   "metadata": {},
   "outputs": [],
   "source": [
    "x_train,x_test,y_train,y_test=train_test_split(x,y,test_size=0.3)"
   ]
  },
  {
   "cell_type": "code",
   "execution_count": 50,
   "id": "f737dcee",
   "metadata": {},
   "outputs": [],
   "source": [
    "sm = SMOTE(random_state=40)\n",
    "x_res, y_res = sm.fit_resample(x_train,y_train)"
   ]
  },
  {
   "cell_type": "code",
   "execution_count": 51,
   "id": "15f40e4e",
   "metadata": {},
   "outputs": [],
   "source": [
    "std=StandardScaler()\n",
    "x_train_std=std.fit_transform(x_res)\n",
    "x_test_std=std.transform(x_test)"
   ]
  },
  {
   "cell_type": "code",
   "execution_count": 52,
   "id": "b77c56ab",
   "metadata": {},
   "outputs": [],
   "source": [
    "#.............#"
   ]
  },
  {
   "cell_type": "code",
   "execution_count": 53,
   "id": "2abf8afe",
   "metadata": {},
   "outputs": [],
   "source": [
    "lr=LogisticRegression()\n",
    "lr.fit(x_train_std,y_res)\n",
    "y_pred=lr.predict_proba(x_test_std)[:,1]\n",
    "y_pred1=lr.predict(x_test_std)"
   ]
  },
  {
   "cell_type": "code",
   "execution_count": 56,
   "id": "ab02a9cd",
   "metadata": {},
   "outputs": [
    {
     "name": "stdout",
     "output_type": "stream",
     "text": [
      "0.9200524131138313\n",
      "[[1500  148]\n",
      " [  28  110]]\n"
     ]
    }
   ],
   "source": [
    "print(roc_auc_score(y_test,y_pred))"
   ]
  },
  {
   "cell_type": "code",
   "execution_count": 57,
   "id": "c4cf03cb",
   "metadata": {},
   "outputs": [
    {
     "name": "stdout",
     "output_type": "stream",
     "text": [
      "0.7971014492753623\n",
      "0.4263565891472868\n"
     ]
    }
   ],
   "source": [
    "print(recall_score(y_test,y_pred1))\n",
    "print(precision_score(y_test,y_pred1))"
   ]
  },
  {
   "cell_type": "code",
   "execution_count": 58,
   "id": "a1e4c8f9",
   "metadata": {},
   "outputs": [
    {
     "data": {
      "text/plain": [
       "array([[1500,  148],\n",
       "       [  28,  110]], dtype=int64)"
      ]
     },
     "execution_count": 58,
     "metadata": {},
     "output_type": "execute_result"
    }
   ],
   "source": [
    "confusion_matrix(y_test,y_pred1)"
   ]
  },
  {
   "cell_type": "code",
   "execution_count": 42,
   "id": "b8fc3076",
   "metadata": {},
   "outputs": [],
   "source": [
    "fpr,tpr,thresh=roc_curve(y_test,y_pred)"
   ]
  },
  {
   "cell_type": "code",
   "execution_count": 43,
   "id": "84b71c10",
   "metadata": {},
   "outputs": [
    {
     "data": {
      "text/plain": [
       "[<matplotlib.lines.Line2D at 0x2863177c280>]"
      ]
     },
     "execution_count": 43,
     "metadata": {},
     "output_type": "execute_result"
    },
    {
     "data": {
      "image/png": "[encoded data removed]",
      "text/plain": [
       "<Figure size 432x288 with 1 Axes>"
      ]
     },
     "metadata": {
      "needs_background": "light"
     },
     "output_type": "display_data"
    }
   ],
   "source": [
    "plt.plot(fpr,tpr)"
   ]
  },
  {
   "cell_type": "code",
   "execution_count": 44,
   "id": "a18eba5d",
   "metadata": {},
   "outputs": [],
   "source": [
    "#.............#"
   ]
  },
  {
   "cell_type": "code",
   "execution_count": 45,
   "id": "5584bdd4",
   "metadata": {},
   "outputs": [
    {
     "data": {
      "text/plain": [
       "0.608695652173913"
      ]
     },
     "execution_count": 45,
     "metadata": {},
     "output_type": "execute_result"
    }
   ],
   "source": [
    "lr=LogisticRegression()\n",
    "lr.fit(x_train_std,y_res)\n",
    "y_pred=lr.predict(x_test_std)\n",
    "f1_score(y_test,y_pred)\n"
   ]
  },
  {
   "cell_type": "code",
   "execution_count": 178,
   "id": "ba6a590d",
   "metadata": {},
   "outputs": [
    {
     "data": {
      "text/plain": [
       "array([[1530,  110],\n",
       "       [  25,  121]], dtype=int64)"
      ]
     },
     "execution_count": 178,
     "metadata": {},
     "output_type": "execute_result"
    }
   ],
   "source": [
    "confusion_matrix(y_test,y_pred)"
   ]
  },
  {
   "cell_type": "code",
   "execution_count": 46,
   "id": "a3bdc6db",
   "metadata": {},
   "outputs": [
    {
     "data": {
      "text/plain": [
       "0.8333333333333334"
      ]
     },
     "execution_count": 46,
     "metadata": {},
     "output_type": "execute_result"
    }
   ],
   "source": [
    "recall_score(y_test,y_pred)"
   ]
  },
  {
   "cell_type": "code",
   "execution_count": 47,
   "id": "5ec20059",
   "metadata": {},
   "outputs": [
    {
     "data": {
      "text/plain": [
       "0.4794520547945205"
      ]
     },
     "execution_count": 47,
     "metadata": {},
     "output_type": "execute_result"
    }
   ],
   "source": [
    "precision_score(y_test,y_pred)"
   ]
  },
  {
   "cell_type": "code",
   "execution_count": 179,
   "id": "6cff37d6",
   "metadata": {},
   "outputs": [
    {
     "data": {
      "text/plain": [
       "0.6225165562913907"
      ]
     },
     "execution_count": 179,
     "metadata": {},
     "output_type": "execute_result"
    }
   ],
   "source": [
    "lgb=LGBMClassifier()\n",
    "lgb.fit(x_train_std,y_res)\n",
    "y_pred=lgb.predict(x_test_std)\n",
    "f1_score(y_test,y_pred)\n"
   ]
  },
  {
   "cell_type": "code",
   "execution_count": 180,
   "id": "217bf742",
   "metadata": {},
   "outputs": [
    {
     "data": {
      "text/plain": [
       "array([[1578,   62],\n",
       "       [  52,   94]], dtype=int64)"
      ]
     },
     "execution_count": 180,
     "metadata": {},
     "output_type": "execute_result"
    }
   ],
   "source": [
    "confusion_matrix(y_test,y_pred)"
   ]
  },
  {
   "cell_type": "code",
   "execution_count": null,
   "id": "6038d882",
   "metadata": {},
   "outputs": [],
   "source": []
  }
 ],
 "metadata": {
  "kernelspec": {
   "display_name": "Python 3 (ipykernel)",
   "language": "python",
   "name": "python3"
  },
  "language_info": {
   "codemirror_mode": {
    "name": "ipython",
    "version": 3
   },
   "file_extension": ".py",
   "mimetype": "text/x-python",
   "name": "python",
   "nbconvert_exporter": "python",
   "pygments_lexer": "ipython3",
   "version": "3.9.12"
  }
 },
 "nbformat": 4,
 "nbformat_minor": 5
}
